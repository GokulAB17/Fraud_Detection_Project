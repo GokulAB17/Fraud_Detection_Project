{
  "nbformat": 4,
  "nbformat_minor": 0,
  "metadata": {
    "colab": {
      "name": "EDA_V2.ipynb",
      "provenance": [],
      "collapsed_sections": []
    },
    "kernelspec": {
      "name": "python3",
      "display_name": "Python 3"
    }
  },
  "cells": [
    {
      "cell_type": "markdown",
      "metadata": {
        "id": "L-dh1pyuRh7d"
      },
      "source": [
        "#MOUNTING MY DRIVE IN THE ENVIRONMENT"
      ]
    },
    {
      "cell_type": "code",
      "metadata": {
        "id": "b4kco7OxRiv4"
      },
      "source": [
        "from google.colab import drive\r\n",
        "drive.mount('/content/drive')"
      ],
      "execution_count": null,
      "outputs": []
    },
    {
      "cell_type": "code",
      "metadata": {
        "colab": {
          "base_uri": "https://localhost:8080/",
          "height": 188
        },
        "id": "T9ocEK5_QXEi",
        "outputId": "b6658150-0a48-463d-ad12-6e3654dd5dee"
      },
      "source": [
        "!pip install patool\r\n",
        "import patoolib\r\n",
        "patoolib.extract_archive(\"/content/drive/MyDrive/ProAnalytics_G4/dataset_template_req/Insurance Dataset.rar\", outdir=\"/content\")"
      ],
      "execution_count": null,
      "outputs": [
        {
          "output_type": "stream",
          "text": [
            "Collecting patool\n",
            "\u001b[?25l  Downloading https://files.pythonhosted.org/packages/43/94/52243ddff508780dd2d8110964320ab4851134a55ab102285b46e740f76a/patool-1.12-py2.py3-none-any.whl (77kB)\n",
            "\r\u001b[K     |████▎                           | 10kB 16.2MB/s eta 0:00:01\r\u001b[K     |████████▌                       | 20kB 12.2MB/s eta 0:00:01\r\u001b[K     |████████████▊                   | 30kB 8.3MB/s eta 0:00:01\r\u001b[K     |█████████████████               | 40kB 6.9MB/s eta 0:00:01\r\u001b[K     |█████████████████████▏          | 51kB 4.3MB/s eta 0:00:01\r\u001b[K     |█████████████████████████▍      | 61kB 4.9MB/s eta 0:00:01\r\u001b[K     |█████████████████████████████▋  | 71kB 4.9MB/s eta 0:00:01\r\u001b[K     |████████████████████████████████| 81kB 3.4MB/s \n",
            "\u001b[?25hInstalling collected packages: patool\n",
            "Successfully installed patool-1.12\n",
            "patool: Extracting /content/drive/MyDrive/ProAnalytics_G4/dataset_template_req/Insurance Dataset.rar ...\n",
            "patool: running /usr/bin/unrar x -- \"/content/drive/MyDrive/ProAnalytics_G4/dataset_template_req/Insurance Dataset.rar\"\n",
            "patool:     with cwd='/content'\n",
            "patool: ... /content/drive/MyDrive/ProAnalytics_G4/dataset_template_req/Insurance Dataset.rar extracted to `/content'.\n"
          ],
          "name": "stdout"
        },
        {
          "output_type": "execute_result",
          "data": {
            "application/vnd.google.colaboratory.intrinsic+json": {
              "type": "string"
            },
            "text/plain": [
              "'/content'"
            ]
          },
          "metadata": {
            "tags": []
          },
          "execution_count": 2
        }
      ]
    },
    {
      "cell_type": "markdown",
      "metadata": {
        "id": "OcvQoqL5R0Xn"
      },
      "source": [
        "#IMPORTING LIBRARIES FOR PREPROCESSING\r\n"
      ]
    },
    {
      "cell_type": "code",
      "metadata": {
        "id": "B2AC5iUXQd6D"
      },
      "source": [
        "#loading basic libraries for EDA \r\n",
        "import pandas as pd\r\n",
        "import numpy as np\r\n",
        "import matplotlib.pyplot as plt\r\n",
        "import seaborn as sns"
      ],
      "execution_count": null,
      "outputs": []
    },
    {
      "cell_type": "markdown",
      "metadata": {
        "id": "vrua9nBMSK-o"
      },
      "source": [
        "###LOADING DATASET AND BASIC INFO "
      ]
    },
    {
      "cell_type": "code",
      "metadata": {
        "id": "052JyAcVQrSb"
      },
      "source": [
        "#Loading dataset in the environment\r\n",
        "data= pd.read_csv(r\"./Insurance Dataset.csv\")"
      ],
      "execution_count": null,
      "outputs": []
    },
    {
      "cell_type": "markdown",
      "metadata": {
        "id": "HjGaGviBSP9l"
      },
      "source": [
        "###MAKING COPY OF ORG DATA"
      ]
    },
    {
      "cell_type": "code",
      "metadata": {
        "id": "MJxIHlG9S9IQ"
      },
      "source": [
        "data1=data.copy()\r\n",
        "data1=data1.drop_duplicates().reset_index(drop=True)"
      ],
      "execution_count": null,
      "outputs": []
    },
    {
      "cell_type": "code",
      "metadata": {
        "colab": {
          "base_uri": "https://localhost:8080/"
        },
        "id": "Q1a5KP6JWcq0",
        "outputId": "7d46caa4-bad0-4eeb-a6ed-ae877f5d696f"
      },
      "source": [
        "data1.shape"
      ],
      "execution_count": null,
      "outputs": [
        {
          "output_type": "execute_result",
          "data": {
            "text/plain": [
              "(1043761, 24)"
            ]
          },
          "metadata": {
            "tags": []
          },
          "execution_count": 85
        }
      ]
    },
    {
      "cell_type": "code",
      "metadata": {
        "id": "p2Gg-KnZWnVx",
        "colab": {
          "base_uri": "https://localhost:8080/",
          "height": 445
        },
        "outputId": "ee061e78-cb52-4cf6-d86d-50e63c867e86"
      },
      "source": [
        "data1.head()"
      ],
      "execution_count": null,
      "outputs": [
        {
          "output_type": "execute_result",
          "data": {
            "text/html": [
              "<div>\n",
              "<style scoped>\n",
              "    .dataframe tbody tr th:only-of-type {\n",
              "        vertical-align: middle;\n",
              "    }\n",
              "\n",
              "    .dataframe tbody tr th {\n",
              "        vertical-align: top;\n",
              "    }\n",
              "\n",
              "    .dataframe thead th {\n",
              "        text-align: right;\n",
              "    }\n",
              "</style>\n",
              "<table border=\"1\" class=\"dataframe\">\n",
              "  <thead>\n",
              "    <tr style=\"text-align: right;\">\n",
              "      <th></th>\n",
              "      <th>Area_Service</th>\n",
              "      <th>Hospital County</th>\n",
              "      <th>Hospital Id</th>\n",
              "      <th>Age</th>\n",
              "      <th>Gender</th>\n",
              "      <th>Cultural_group</th>\n",
              "      <th>ethnicity</th>\n",
              "      <th>Days_spend_hsptl</th>\n",
              "      <th>Admission_type</th>\n",
              "      <th>Home or self care,</th>\n",
              "      <th>ccs_diagnosis_code</th>\n",
              "      <th>ccs_procedure_code</th>\n",
              "      <th>apr_drg_description</th>\n",
              "      <th>Code_illness</th>\n",
              "      <th>Mortality risk</th>\n",
              "      <th>Surg_Description</th>\n",
              "      <th>Weight_baby</th>\n",
              "      <th>Abortion</th>\n",
              "      <th>Emergency dept_yes/No</th>\n",
              "      <th>Tot_charg</th>\n",
              "      <th>Tot_cost</th>\n",
              "      <th>ratio_of_total_costs_to_total_charges</th>\n",
              "      <th>Result</th>\n",
              "      <th>Payment_Typology</th>\n",
              "    </tr>\n",
              "  </thead>\n",
              "  <tbody>\n",
              "    <tr>\n",
              "      <th>0</th>\n",
              "      <td>Western NY</td>\n",
              "      <td>Allegany</td>\n",
              "      <td>37.0</td>\n",
              "      <td>30 to 49</td>\n",
              "      <td>F</td>\n",
              "      <td>White</td>\n",
              "      <td>Not Span/Hispanic</td>\n",
              "      <td>4</td>\n",
              "      <td>Elective</td>\n",
              "      <td>Home or Self Care</td>\n",
              "      <td>122</td>\n",
              "      <td>0</td>\n",
              "      <td>Other pneumonia</td>\n",
              "      <td>1</td>\n",
              "      <td>1.0</td>\n",
              "      <td>Medical</td>\n",
              "      <td>0</td>\n",
              "      <td>N</td>\n",
              "      <td>Y</td>\n",
              "      <td>5511.95</td>\n",
              "      <td>5582.49</td>\n",
              "      <td>1.012798</td>\n",
              "      <td>1</td>\n",
              "      <td>1</td>\n",
              "    </tr>\n",
              "    <tr>\n",
              "      <th>1</th>\n",
              "      <td>Western NY</td>\n",
              "      <td>Allegany</td>\n",
              "      <td>37.0</td>\n",
              "      <td>70 or Older</td>\n",
              "      <td>F</td>\n",
              "      <td>White</td>\n",
              "      <td>Not Span/Hispanic</td>\n",
              "      <td>4</td>\n",
              "      <td>Urgent</td>\n",
              "      <td>Short-term Hospital</td>\n",
              "      <td>197</td>\n",
              "      <td>0</td>\n",
              "      <td>Cellulitis &amp; other skin infections</td>\n",
              "      <td>3</td>\n",
              "      <td>2.0</td>\n",
              "      <td>Medical</td>\n",
              "      <td>0</td>\n",
              "      <td>N</td>\n",
              "      <td>Y</td>\n",
              "      <td>4783.20</td>\n",
              "      <td>5162.82</td>\n",
              "      <td>1.079365</td>\n",
              "      <td>1</td>\n",
              "      <td>1</td>\n",
              "    </tr>\n",
              "    <tr>\n",
              "      <th>2</th>\n",
              "      <td>Western NY</td>\n",
              "      <td>Allegany</td>\n",
              "      <td>37.0</td>\n",
              "      <td>30 to 49</td>\n",
              "      <td>F</td>\n",
              "      <td>White</td>\n",
              "      <td>Not Span/Hispanic</td>\n",
              "      <td>3</td>\n",
              "      <td>Urgent</td>\n",
              "      <td>Home or Self Care</td>\n",
              "      <td>122</td>\n",
              "      <td>0</td>\n",
              "      <td>Other pneumonia</td>\n",
              "      <td>1</td>\n",
              "      <td>1.0</td>\n",
              "      <td>Medical</td>\n",
              "      <td>0</td>\n",
              "      <td>N</td>\n",
              "      <td>Y</td>\n",
              "      <td>3829.15</td>\n",
              "      <td>4056.52</td>\n",
              "      <td>1.059379</td>\n",
              "      <td>1</td>\n",
              "      <td>1</td>\n",
              "    </tr>\n",
              "    <tr>\n",
              "      <th>3</th>\n",
              "      <td>Western NY</td>\n",
              "      <td>Allegany</td>\n",
              "      <td>37.0</td>\n",
              "      <td>0 to 17</td>\n",
              "      <td>F</td>\n",
              "      <td>White</td>\n",
              "      <td>Not Span/Hispanic</td>\n",
              "      <td>1</td>\n",
              "      <td>Urgent</td>\n",
              "      <td>Home or Self Care</td>\n",
              "      <td>122</td>\n",
              "      <td>0</td>\n",
              "      <td>Other pneumonia</td>\n",
              "      <td>1</td>\n",
              "      <td>1.0</td>\n",
              "      <td>Medical</td>\n",
              "      <td>0</td>\n",
              "      <td>N</td>\n",
              "      <td>Y</td>\n",
              "      <td>1108.20</td>\n",
              "      <td>1644.75</td>\n",
              "      <td>1.484167</td>\n",
              "      <td>0</td>\n",
              "      <td>1</td>\n",
              "    </tr>\n",
              "    <tr>\n",
              "      <th>4</th>\n",
              "      <td>Western NY</td>\n",
              "      <td>Allegany</td>\n",
              "      <td>37.0</td>\n",
              "      <td>70 or Older</td>\n",
              "      <td>F</td>\n",
              "      <td>White</td>\n",
              "      <td>Not Span/Hispanic</td>\n",
              "      <td>3</td>\n",
              "      <td>Elective</td>\n",
              "      <td>Home or Self Care</td>\n",
              "      <td>122</td>\n",
              "      <td>0</td>\n",
              "      <td>Other pneumonia</td>\n",
              "      <td>2</td>\n",
              "      <td>3.0</td>\n",
              "      <td>Medical</td>\n",
              "      <td>0</td>\n",
              "      <td>N</td>\n",
              "      <td>Y</td>\n",
              "      <td>3418.18</td>\n",
              "      <td>3370.87</td>\n",
              "      <td>0.986161</td>\n",
              "      <td>1</td>\n",
              "      <td>1</td>\n",
              "    </tr>\n",
              "  </tbody>\n",
              "</table>\n",
              "</div>"
            ],
            "text/plain": [
              "  Area_Service Hospital County  ...  Result Payment_Typology\n",
              "0   Western NY        Allegany  ...       1                1\n",
              "1   Western NY        Allegany  ...       1                1\n",
              "2   Western NY        Allegany  ...       1                1\n",
              "3   Western NY        Allegany  ...       0                1\n",
              "4   Western NY        Allegany  ...       1                1\n",
              "\n",
              "[5 rows x 24 columns]"
            ]
          },
          "metadata": {
            "tags": []
          },
          "execution_count": 86
        }
      ]
    },
    {
      "cell_type": "code",
      "metadata": {
        "colab": {
          "base_uri": "https://localhost:8080/"
        },
        "id": "Dalw3zGoXCIb",
        "outputId": "eb8c465a-bd6f-4ebf-879d-ed9db8452716"
      },
      "source": [
        "data1.columns"
      ],
      "execution_count": null,
      "outputs": [
        {
          "output_type": "execute_result",
          "data": {
            "text/plain": [
              "Index(['Area_Service', 'Hospital County', 'Hospital Id', 'Age', 'Gender',\n",
              "       'Cultural_group', 'ethnicity', 'Days_spend_hsptl', 'Admission_type',\n",
              "       'Home or self care,', 'ccs_diagnosis_code', 'ccs_procedure_code',\n",
              "       'apr_drg_description', 'Code_illness', 'Mortality risk',\n",
              "       'Surg_Description', 'Weight_baby', 'Abortion', 'Emergency dept_yes/No',\n",
              "       'Tot_charg', 'Tot_cost', 'ratio_of_total_costs_to_total_charges',\n",
              "       'Result', 'Payment_Typology'],\n",
              "      dtype='object')"
            ]
          },
          "metadata": {
            "tags": []
          },
          "execution_count": 87
        }
      ]
    },
    {
      "cell_type": "markdown",
      "metadata": {
        "id": "azEDP4X6SoXT"
      },
      "source": [
        "###COLUMN 7 NOISE HANDLING"
      ]
    },
    {
      "cell_type": "code",
      "metadata": {
        "colab": {
          "base_uri": "https://localhost:8080/"
        },
        "id": "m733-TegXnc3",
        "outputId": "136311ac-9ddf-4338-a48e-6bfcced26f03"
      },
      "source": [
        "data1.iloc[:,7].unique().shape[0]"
      ],
      "execution_count": null,
      "outputs": [
        {
          "output_type": "execute_result",
          "data": {
            "text/plain": [
              "120"
            ]
          },
          "metadata": {
            "tags": []
          },
          "execution_count": 8
        }
      ]
    },
    {
      "cell_type": "code",
      "metadata": {
        "colab": {
          "base_uri": "https://localhost:8080/"
        },
        "id": "mvYm-lq9XS9I",
        "outputId": "0b3f4c58-1484-4d51-b018-9f656f46f425"
      },
      "source": [
        "d1=data1.iloc[:,7].values\r\n",
        "d1=[v.replace(\" +\",\"\") for v in d1]\r\n",
        "data1.iloc[:,7]=d1\r\n",
        "data1.iloc[:,7].unique().shape[0]"
      ],
      "execution_count": null,
      "outputs": [
        {
          "output_type": "execute_result",
          "data": {
            "text/plain": [
              "120"
            ]
          },
          "metadata": {
            "tags": []
          },
          "execution_count": 82
        }
      ]
    },
    {
      "cell_type": "code",
      "metadata": {
        "colab": {
          "base_uri": "https://localhost:8080/"
        },
        "id": "aTsapkoWHUJ8",
        "outputId": "83c04ca5-0300-443f-b9a9-c2fec565a801"
      },
      "source": [
        "data1.iloc[:,7].unique()"
      ],
      "execution_count": null,
      "outputs": [
        {
          "output_type": "execute_result",
          "data": {
            "text/plain": [
              "array(['4', '3', '1', '2', '5', '6', '14', '12', '9', '8', '10', '7',\n",
              "       '22', '11', '16', '15', '25', '13', '17', '28', '18', '19', '23',\n",
              "       '38', '20', '24', '26', '21', '27', '30', '29', '39', '87', '35',\n",
              "       '37', '32', '55', '56', '49', '110', '69', '75', '42', '51', '47',\n",
              "       '45', '46', '40', '34', '79', '43', '120', '65', '41', '31', '50',\n",
              "       '59', '44', '36', '70', '115', '58', '94', '33', '68', '67', '54',\n",
              "       '80', '85', '95', '78', '91', '88', '48', '52', '63', '57', '74',\n",
              "       '64', '53', '62', '97', '72', '118', '81', '90', '86', '106',\n",
              "       '112', '105', '114', '66', '89', '83', '84', '82', '93', '116',\n",
              "       '71', '60', '73', '61', '92', '76', '96', '77', '104', '100',\n",
              "       '103', '102', '117', '108', '99', '107', '98', '101', '119', '111',\n",
              "       '109', '113'], dtype=object)"
            ]
          },
          "metadata": {
            "tags": []
          },
          "execution_count": 83
        }
      ]
    },
    {
      "cell_type": "markdown",
      "metadata": {
        "id": "GeRaEb-DSzd8"
      },
      "source": [
        "###DROPPING MISSING, NULL VALUES"
      ]
    },
    {
      "cell_type": "code",
      "metadata": {
        "id": "DOuJzkNFY-lo"
      },
      "source": [
        "data1.dropna(inplace=True)"
      ],
      "execution_count": null,
      "outputs": []
    },
    {
      "cell_type": "code",
      "metadata": {
        "colab": {
          "base_uri": "https://localhost:8080/"
        },
        "id": "HaS40WyiZzqF",
        "outputId": "6ee653f9-afcf-490b-caeb-6eab726e0617"
      },
      "source": [
        "percent=(data.shape[0]-data1.shape[0])/data.shape[0]*100\r\n",
        "print(\"% of dropped missing records:\",round(percent,3))"
      ],
      "execution_count": null,
      "outputs": [
        {
          "output_type": "stream",
          "text": [
            "% of missing records: 0.697\n"
          ],
          "name": "stdout"
        }
      ]
    },
    {
      "cell_type": "code",
      "metadata": {
        "colab": {
          "base_uri": "https://localhost:8080/"
        },
        "id": "Km1qG9pXadT8",
        "outputId": "2fb73492-3f98-45ab-c018-4a71ed294275"
      },
      "source": [
        "data1.reset_index(drop=True,inplace=True)\r\n",
        "data1.shape"
      ],
      "execution_count": null,
      "outputs": [
        {
          "output_type": "execute_result",
          "data": {
            "text/plain": [
              "(1041265, 24)"
            ]
          },
          "metadata": {
            "tags": []
          },
          "execution_count": 86
        }
      ]
    },
    {
      "cell_type": "code",
      "metadata": {
        "colab": {
          "base_uri": "https://localhost:8080/"
        },
        "id": "8Fmy-NFSbldy",
        "outputId": "6a9e46af-a881-4145-ad3f-19a28ee40082"
      },
      "source": [
        "data1.info()"
      ],
      "execution_count": null,
      "outputs": [
        {
          "output_type": "stream",
          "text": [
            "<class 'pandas.core.frame.DataFrame'>\n",
            "Int64Index: 1041265 entries, 0 to 1043760\n",
            "Data columns (total 24 columns):\n",
            " #   Column                                 Non-Null Count    Dtype  \n",
            "---  ------                                 --------------    -----  \n",
            " 0   Area_Service                           1041265 non-null  object \n",
            " 1   Hospital County                        1041265 non-null  object \n",
            " 2   Hospital Id                            1041265 non-null  float64\n",
            " 3   Age                                    1041265 non-null  object \n",
            " 4   Gender                                 1041265 non-null  object \n",
            " 5   Cultural_group                         1041265 non-null  object \n",
            " 6   ethnicity                              1041265 non-null  object \n",
            " 7   Days_spend_hsptl                       1041265 non-null  object \n",
            " 8   Admission_type                         1041265 non-null  object \n",
            " 9   Home or self care,                     1041265 non-null  object \n",
            " 10  ccs_diagnosis_code                     1041265 non-null  int64  \n",
            " 11  ccs_procedure_code                     1041265 non-null  int64  \n",
            " 12  apr_drg_description                    1041265 non-null  object \n",
            " 13  Code_illness                           1041265 non-null  int64  \n",
            " 14  Mortality risk                         1041265 non-null  float64\n",
            " 15  Surg_Description                       1041265 non-null  object \n",
            " 16  Weight_baby                            1041265 non-null  int64  \n",
            " 17  Abortion                               1041265 non-null  object \n",
            " 18  Emergency dept_yes/No                  1041265 non-null  object \n",
            " 19  Tot_charg                              1041265 non-null  float64\n",
            " 20  Tot_cost                               1041265 non-null  float64\n",
            " 21  ratio_of_total_costs_to_total_charges  1041265 non-null  float64\n",
            " 22  Result                                 1041265 non-null  int64  \n",
            " 23  Payment_Typology                       1041265 non-null  int64  \n",
            "dtypes: float64(5), int64(6), object(13)\n",
            "memory usage: 198.6+ MB\n"
          ],
          "name": "stdout"
        }
      ]
    },
    {
      "cell_type": "code",
      "metadata": {
        "id": "BCFYi-EkcewB"
      },
      "source": [
        "data1.info()"
      ],
      "execution_count": null,
      "outputs": []
    },
    {
      "cell_type": "markdown",
      "metadata": {
        "id": "hmZnCLtaTC9u"
      },
      "source": [
        "###DROPPING IRRELEVANT COLUMNS"
      ]
    },
    {
      "cell_type": "code",
      "metadata": {
        "id": "mt4WADh6HZt_"
      },
      "source": [
        "data2=data1.drop([\"Hospital County\",\"Hospital Id\",\"Home or self care,\",\"apr_drg_description\",\"Emergency dept_yes/No\",\"Tot_cost\",\"Tot_charg\"],axis=1)"
      ],
      "execution_count": null,
      "outputs": []
    },
    {
      "cell_type": "code",
      "metadata": {
        "colab": {
          "base_uri": "https://localhost:8080/"
        },
        "id": "fnnDxnV9MD1L",
        "outputId": "3b8b2e93-66d7-42b6-89b9-b8f43a2eede9"
      },
      "source": [
        "data2.shape\r\n"
      ],
      "execution_count": null,
      "outputs": [
        {
          "output_type": "execute_result",
          "data": {
            "text/plain": [
              "(1041265, 17)"
            ]
          },
          "metadata": {
            "tags": []
          },
          "execution_count": 89
        }
      ]
    },
    {
      "cell_type": "markdown",
      "metadata": {
        "id": "c2aLzsaTTQTT"
      },
      "source": [
        "###DIVIDING DATASET TO CATEGORICAL AND NUMERICAL "
      ]
    },
    {
      "cell_type": "code",
      "metadata": {
        "id": "_hfIiY7mmQ3u"
      },
      "source": [
        "#placing the whole dataset into categorical and numerical for ease of operation\r\n",
        "categ= data2.iloc[:,[0,1,2,3,4,6,7,8,9,10,11,13,16]]\r\n",
        "num=data2.iloc[:,[5,12,14]]"
      ],
      "execution_count": null,
      "outputs": []
    },
    {
      "cell_type": "markdown",
      "metadata": {
        "id": "g22y8JStTbIT"
      },
      "source": [
        "###ENCODING CATEGORICAL FEATURES"
      ]
    },
    {
      "cell_type": "code",
      "metadata": {
        "id": "79QsNte2cjqo"
      },
      "source": [
        "from sklearn.preprocessing import LabelEncoder\r\n",
        "labelencoder = LabelEncoder()"
      ],
      "execution_count": null,
      "outputs": []
    },
    {
      "cell_type": "code",
      "metadata": {
        "id": "OaLIXkB4hHcJ"
      },
      "source": [
        "for i in range(categ.shape[1]):\r\n",
        "  categ.iloc[:,i] = labelencoder.fit_transform(categ.iloc[:,i])\r\n"
      ],
      "execution_count": null,
      "outputs": []
    },
    {
      "cell_type": "markdown",
      "metadata": {
        "id": "l9iuPT2bTwHk"
      },
      "source": [
        "### CHANGING DTYPE OF COLUMN 7 TO NUMERICAL"
      ]
    },
    {
      "cell_type": "code",
      "metadata": {
        "id": "EvJUVCwUjfj1",
        "colab": {
          "base_uri": "https://localhost:8080/"
        },
        "outputId": "0322feae-3a98-48e1-e28b-1e9634c342da"
      },
      "source": [
        "num[\"Days_spend_hsptl\"]=num[\"Days_spend_hsptl\"].astype(\"int64\")\r\n"
      ],
      "execution_count": null,
      "outputs": [
        {
          "output_type": "stream",
          "text": [
            "/usr/local/lib/python3.6/dist-packages/ipykernel_launcher.py:1: SettingWithCopyWarning: \n",
            "A value is trying to be set on a copy of a slice from a DataFrame.\n",
            "Try using .loc[row_indexer,col_indexer] = value instead\n",
            "\n",
            "See the caveats in the documentation: https://pandas.pydata.org/pandas-docs/stable/user_guide/indexing.html#returning-a-view-versus-a-copy\n",
            "  \"\"\"Entry point for launching an IPython kernel.\n"
          ],
          "name": "stderr"
        }
      ]
    },
    {
      "cell_type": "markdown",
      "metadata": {
        "id": "iwRnf7KiUBTq"
      },
      "source": [
        "###CHECKING CORRELATION IN NUMERICAL DATA"
      ]
    },
    {
      "cell_type": "code",
      "metadata": {
        "id": "H2KYLzvSiF0d"
      },
      "source": [
        "plt.figure(figsize=(10,5))\r\n",
        "sns.heatmap(num.corr(), annot=True,  cmap= 'viridis')"
      ],
      "execution_count": null,
      "outputs": []
    },
    {
      "cell_type": "markdown",
      "metadata": {
        "id": "P-UgomUJUMow"
      },
      "source": [
        "###CHECKING CORRELATION IN CATEGORICAL DATA"
      ]
    },
    {
      "cell_type": "code",
      "metadata": {
        "id": "bjzATYpbO-R5",
        "colab": {
          "base_uri": "https://localhost:8080/",
          "height": 431
        },
        "outputId": "a7423580-70d0-476f-f428-af496d16da20"
      },
      "source": [
        "plt.figure(figsize=(10,5))\r\n",
        "sns.heatmap(categ.corr(), annot=True, cmap= 'viridis')\r\n"
      ],
      "execution_count": null,
      "outputs": [
        {
          "output_type": "execute_result",
          "data": {
            "text/plain": [
              "<matplotlib.axes._subplots.AxesSubplot at 0x7f448e3416d8>"
            ]
          },
          "metadata": {
            "tags": []
          },
          "execution_count": 119
        },
        {
          "output_type": "display_data",
          "data": {
            "image/png": "[encoded data removed]",
            "text/plain": [
              "<Figure size 720x360 with 2 Axes>"
            ]
          },
          "metadata": {
            "tags": [],
            "needs_background": "light"
          }
        }
      ]
    },
    {
      "cell_type": "markdown",
      "metadata": {
        "id": "xKCwOfuOUV2Q"
      },
      "source": [
        "###SCALING NUMERICAL BY ROBUSTSCALER AND CATEGORICAL BY MINMAXSCALER"
      ]
    },
    {
      "cell_type": "code",
      "metadata": {
        "id": "cJLq0dBzlDIL"
      },
      "source": [
        "from sklearn.preprocessing import RobustScaler,MinMaxScaler"
      ],
      "execution_count": null,
      "outputs": []
    },
    {
      "cell_type": "code",
      "metadata": {
        "colab": {
          "base_uri": "https://localhost:8080/",
          "height": 204
        },
        "id": "gCFaVtG_s8FX",
        "outputId": "5e6409c6-88ee-4e92-c169-41972207e6d0"
      },
      "source": [
        "num.head()"
      ],
      "execution_count": null,
      "outputs": [
        {
          "output_type": "execute_result",
          "data": {
            "text/html": [
              "<div>\n",
              "<style scoped>\n",
              "    .dataframe tbody tr th:only-of-type {\n",
              "        vertical-align: middle;\n",
              "    }\n",
              "\n",
              "    .dataframe tbody tr th {\n",
              "        vertical-align: top;\n",
              "    }\n",
              "\n",
              "    .dataframe thead th {\n",
              "        text-align: right;\n",
              "    }\n",
              "</style>\n",
              "<table border=\"1\" class=\"dataframe\">\n",
              "  <thead>\n",
              "    <tr style=\"text-align: right;\">\n",
              "      <th></th>\n",
              "      <th>Days_spend_hsptl</th>\n",
              "      <th>Weight_baby</th>\n",
              "      <th>ratio_of_total_costs_to_total_charges</th>\n",
              "    </tr>\n",
              "  </thead>\n",
              "  <tbody>\n",
              "    <tr>\n",
              "      <th>0</th>\n",
              "      <td>4</td>\n",
              "      <td>0</td>\n",
              "      <td>1.012798</td>\n",
              "    </tr>\n",
              "    <tr>\n",
              "      <th>1</th>\n",
              "      <td>4</td>\n",
              "      <td>0</td>\n",
              "      <td>1.079365</td>\n",
              "    </tr>\n",
              "    <tr>\n",
              "      <th>2</th>\n",
              "      <td>3</td>\n",
              "      <td>0</td>\n",
              "      <td>1.059379</td>\n",
              "    </tr>\n",
              "    <tr>\n",
              "      <th>3</th>\n",
              "      <td>1</td>\n",
              "      <td>0</td>\n",
              "      <td>1.484167</td>\n",
              "    </tr>\n",
              "    <tr>\n",
              "      <th>4</th>\n",
              "      <td>3</td>\n",
              "      <td>0</td>\n",
              "      <td>0.986161</td>\n",
              "    </tr>\n",
              "  </tbody>\n",
              "</table>\n",
              "</div>"
            ],
            "text/plain": [
              "   Days_spend_hsptl  Weight_baby  ratio_of_total_costs_to_total_charges\n",
              "0                 4            0                               1.012798\n",
              "1                 4            0                               1.079365\n",
              "2                 3            0                               1.059379\n",
              "3                 1            0                               1.484167\n",
              "4                 3            0                               0.986161"
            ]
          },
          "metadata": {
            "tags": []
          },
          "execution_count": 123
        }
      ]
    },
    {
      "cell_type": "code",
      "metadata": {
        "id": "oqi6WiH8RyoG"
      },
      "source": [
        "scaler=RobustScaler()\r\n",
        "scaler1=MinMaxScaler()\r\n"
      ],
      "execution_count": null,
      "outputs": []
    },
    {
      "cell_type": "code",
      "metadata": {
        "id": "4bWwAL8HWxLK"
      },
      "source": [
        "#for numerical data\r\n",
        "num=pd.DataFrame(scaler.fit_transform(num))\r\n"
      ],
      "execution_count": null,
      "outputs": []
    },
    {
      "cell_type": "code",
      "metadata": {
        "id": "Chyg_BY2tyLc"
      },
      "source": [
        "#for categorical data\r\n",
        "categ=pd.DataFrame(scaler1.fit_transform(categ))"
      ],
      "execution_count": null,
      "outputs": []
    },
    {
      "cell_type": "code",
      "metadata": {
        "id": "zznpItBbfQea"
      },
      "source": [
        "#for numerical data\r\n",
        "#data2.iloc[:,5]=scaler.fit_transform(data2.iloc[:,5].values.reshape(-1,1))\r\n",
        "#data2.iloc[:,12]=scaler.fit_transform(data2.iloc[:,12].values.reshape(-1,1))\r\n",
        "#data2.iloc[:,14]=scaler.fit_transform(data2.iloc[:,14].values.reshape(-1,1))"
      ],
      "execution_count": null,
      "outputs": []
    },
    {
      "cell_type": "code",
      "metadata": {
        "id": "8Cs9kknnhk_2"
      },
      "source": [
        "#for categorical data\r\n",
        "#data2.iloc[:,0]=scaler1.fit_transform(data2.iloc[:,0].values.reshape(-1,1))\r\n",
        "#data2.iloc[:,1]=scaler.fit_transform(data2.iloc[:,1].values.reshape(-1,1))\r\n",
        "#data2.iloc[:,2]=scaler.fit_transform(data2.iloc[:,2].values.reshape(-1,1))\r\n",
        "#data2.iloc[:,3]=scaler.fit_transform(data2.iloc[:,3].values.reshape(-1,1))\r\n",
        "#data2.iloc[:,4]=scaler.fit_transform(data2.iloc[:,4].values.reshape(-1,1))\r\n"
      ],
      "execution_count": null,
      "outputs": []
    },
    {
      "cell_type": "markdown",
      "metadata": {
        "id": "08PausWQUpLY"
      },
      "source": [
        "### CONCAT NUM AND CATEG DATA AND ADD TARGET VARIABLE \r\n",
        "### SAVE PROCESSED DATASET FOR MODEL BUILDING\r\n",
        "### RENAMING COLUMNS AS REFERENCE NOS "
      ]
    },
    {
      "cell_type": "code",
      "metadata": {
        "id": "VJY9pN-OgTcJ"
      },
      "source": [
        "processed_data=pd.concat([categ, num], axis=1)\r\n",
        "processed_data.columns=[\"I\"+str(i) for i in range(processed_data.shape[1])]"
      ],
      "execution_count": null,
      "outputs": []
    },
    {
      "cell_type": "code",
      "metadata": {
        "colab": {
          "base_uri": "https://localhost:8080/"
        },
        "id": "3Neex998Zk9z",
        "outputId": "9acd2f1b-9eb6-4147-88a9-9a8c9d1b7664"
      },
      "source": [
        "processed_data.columns"
      ],
      "execution_count": null,
      "outputs": [
        {
          "output_type": "execute_result",
          "data": {
            "text/plain": [
              "Index(['I0', 'I1', 'I2', 'I3', 'I4', 'I5', 'I6', 'I7', 'I8', 'I9', 'I10',\n",
              "       'I11', 'I12', 'I13', 'I14', 'I15'],\n",
              "      dtype='object')"
            ]
          },
          "metadata": {
            "tags": []
          },
          "execution_count": 147
        }
      ]
    },
    {
      "cell_type": "code",
      "metadata": {
        "id": "gJSrems7xMlI"
      },
      "source": [
        "processed_data[\"Result\"]=data2.Result"
      ],
      "execution_count": null,
      "outputs": []
    },
    {
      "cell_type": "code",
      "metadata": {
        "colab": {
          "base_uri": "https://localhost:8080/",
          "height": 204
        },
        "id": "0EwK74lOztyA",
        "outputId": "b3ba806d-cfbd-47d9-b628-174446561338"
      },
      "source": [
        "processed_data.head()"
      ],
      "execution_count": null,
      "outputs": [
        {
          "output_type": "execute_result",
          "data": {
            "text/html": [
              "<div>\n",
              "<style scoped>\n",
              "    .dataframe tbody tr th:only-of-type {\n",
              "        vertical-align: middle;\n",
              "    }\n",
              "\n",
              "    .dataframe tbody tr th {\n",
              "        vertical-align: top;\n",
              "    }\n",
              "\n",
              "    .dataframe thead th {\n",
              "        text-align: right;\n",
              "    }\n",
              "</style>\n",
              "<table border=\"1\" class=\"dataframe\">\n",
              "  <thead>\n",
              "    <tr style=\"text-align: right;\">\n",
              "      <th></th>\n",
              "      <th>I0</th>\n",
              "      <th>I1</th>\n",
              "      <th>I2</th>\n",
              "      <th>I3</th>\n",
              "      <th>I4</th>\n",
              "      <th>I5</th>\n",
              "      <th>I6</th>\n",
              "      <th>I7</th>\n",
              "      <th>I8</th>\n",
              "      <th>I9</th>\n",
              "      <th>I10</th>\n",
              "      <th>I11</th>\n",
              "      <th>I12</th>\n",
              "      <th>I13</th>\n",
              "      <th>I14</th>\n",
              "      <th>I15</th>\n",
              "      <th>Result</th>\n",
              "    </tr>\n",
              "  </thead>\n",
              "  <tbody>\n",
              "    <tr>\n",
              "      <th>0</th>\n",
              "      <td>1.0</td>\n",
              "      <td>0.5</td>\n",
              "      <td>0.0</td>\n",
              "      <td>1.0</td>\n",
              "      <td>0.0</td>\n",
              "      <td>0.0</td>\n",
              "      <td>0.428016</td>\n",
              "      <td>0.0</td>\n",
              "      <td>0.000000</td>\n",
              "      <td>0.000000</td>\n",
              "      <td>0.0</td>\n",
              "      <td>0.0</td>\n",
              "      <td>0.0</td>\n",
              "      <td>0.25</td>\n",
              "      <td>0.0</td>\n",
              "      <td>2.940386</td>\n",
              "      <td>1</td>\n",
              "    </tr>\n",
              "    <tr>\n",
              "      <th>1</th>\n",
              "      <td>1.0</td>\n",
              "      <td>1.0</td>\n",
              "      <td>0.0</td>\n",
              "      <td>1.0</td>\n",
              "      <td>0.0</td>\n",
              "      <td>1.0</td>\n",
              "      <td>0.700389</td>\n",
              "      <td>0.0</td>\n",
              "      <td>0.666667</td>\n",
              "      <td>0.333333</td>\n",
              "      <td>0.0</td>\n",
              "      <td>0.0</td>\n",
              "      <td>0.0</td>\n",
              "      <td>0.25</td>\n",
              "      <td>0.0</td>\n",
              "      <td>3.264552</td>\n",
              "      <td>1</td>\n",
              "    </tr>\n",
              "    <tr>\n",
              "      <th>2</th>\n",
              "      <td>1.0</td>\n",
              "      <td>0.5</td>\n",
              "      <td>0.0</td>\n",
              "      <td>1.0</td>\n",
              "      <td>0.0</td>\n",
              "      <td>1.0</td>\n",
              "      <td>0.428016</td>\n",
              "      <td>0.0</td>\n",
              "      <td>0.000000</td>\n",
              "      <td>0.000000</td>\n",
              "      <td>0.0</td>\n",
              "      <td>0.0</td>\n",
              "      <td>0.0</td>\n",
              "      <td>0.00</td>\n",
              "      <td>0.0</td>\n",
              "      <td>3.167225</td>\n",
              "      <td>1</td>\n",
              "    </tr>\n",
              "    <tr>\n",
              "      <th>3</th>\n",
              "      <td>1.0</td>\n",
              "      <td>0.0</td>\n",
              "      <td>0.0</td>\n",
              "      <td>1.0</td>\n",
              "      <td>0.0</td>\n",
              "      <td>1.0</td>\n",
              "      <td>0.428016</td>\n",
              "      <td>0.0</td>\n",
              "      <td>0.000000</td>\n",
              "      <td>0.000000</td>\n",
              "      <td>0.0</td>\n",
              "      <td>0.0</td>\n",
              "      <td>0.0</td>\n",
              "      <td>-0.50</td>\n",
              "      <td>0.0</td>\n",
              "      <td>5.235848</td>\n",
              "      <td>0</td>\n",
              "    </tr>\n",
              "    <tr>\n",
              "      <th>4</th>\n",
              "      <td>1.0</td>\n",
              "      <td>1.0</td>\n",
              "      <td>0.0</td>\n",
              "      <td>1.0</td>\n",
              "      <td>0.0</td>\n",
              "      <td>0.0</td>\n",
              "      <td>0.428016</td>\n",
              "      <td>0.0</td>\n",
              "      <td>0.333333</td>\n",
              "      <td>0.666667</td>\n",
              "      <td>0.0</td>\n",
              "      <td>0.0</td>\n",
              "      <td>0.0</td>\n",
              "      <td>0.00</td>\n",
              "      <td>0.0</td>\n",
              "      <td>2.810670</td>\n",
              "      <td>1</td>\n",
              "    </tr>\n",
              "  </tbody>\n",
              "</table>\n",
              "</div>"
            ],
            "text/plain": [
              "    I0   I1   I2   I3   I4   I5  ...  I11  I12   I13  I14       I15  Result\n",
              "0  1.0  0.5  0.0  1.0  0.0  0.0  ...  0.0  0.0  0.25  0.0  2.940386       1\n",
              "1  1.0  1.0  0.0  1.0  0.0  1.0  ...  0.0  0.0  0.25  0.0  3.264552       1\n",
              "2  1.0  0.5  0.0  1.0  0.0  1.0  ...  0.0  0.0  0.00  0.0  3.167225       1\n",
              "3  1.0  0.0  0.0  1.0  0.0  1.0  ...  0.0  0.0 -0.50  0.0  5.235848       0\n",
              "4  1.0  1.0  0.0  1.0  0.0  0.0  ...  0.0  0.0  0.00  0.0  2.810670       1\n",
              "\n",
              "[5 rows x 17 columns]"
            ]
          },
          "metadata": {
            "tags": []
          },
          "execution_count": 159
        }
      ]
    },
    {
      "cell_type": "code",
      "metadata": {
        "id": "PLZB3awKgQyL"
      },
      "source": [
        "predictors=list(processed_data.columns)\r\n",
        "target=predictors.pop(16)\r\n"
      ],
      "execution_count": null,
      "outputs": []
    },
    {
      "cell_type": "code",
      "metadata": {
        "colab": {
          "base_uri": "https://localhost:8080/",
          "height": 35
        },
        "id": "MGa-1WGmZZbv",
        "outputId": "fe420476-d9ec-45be-c7b3-bd7878b6ce87"
      },
      "source": [
        "#c=data1.columns\r\n",
        "#target=\"I22\"\r\n",
        "#predictors=[ w for w in c ] \r\n",
        "#predictors.pop(22)"
      ],
      "execution_count": null,
      "outputs": [
        {
          "output_type": "execute_result",
          "data": {
            "application/vnd.google.colaboratory.intrinsic+json": {
              "type": "string"
            },
            "text/plain": [
              "'I22'"
            ]
          },
          "metadata": {
            "tags": []
          },
          "execution_count": 72
        }
      ]
    },
    {
      "cell_type": "code",
      "metadata": {
        "id": "lIlS7kcdZ3mo"
      },
      "source": [
        "from sklearn.model_selection import train_test_split\r\n",
        "x_train, x_test, y_train, y_test = train_test_split(processed_data[predictors],\r\n",
        "                                                     processed_data[target],\r\n",
        "                                                    test_size=0.3, random_state=10)"
      ],
      "execution_count": null,
      "outputs": []
    },
    {
      "cell_type": "code",
      "metadata": {
        "colab": {
          "base_uri": "https://localhost:8080/"
        },
        "id": "8SY5HgJlapoa",
        "outputId": "324a5b81-e9ce-4a66-fec3-20daa614558c"
      },
      "source": [
        "\r\n",
        "(x_train.shape, y_train.shape,x_test.shape, y_test.shape)"
      ],
      "execution_count": null,
      "outputs": [
        {
          "output_type": "execute_result",
          "data": {
            "text/plain": [
              "((728885, 16), (728885,), (312380, 16), (312380,))"
            ]
          },
          "metadata": {
            "tags": []
          },
          "execution_count": 174
        }
      ]
    },
    {
      "cell_type": "code",
      "metadata": {
        "id": "u3P8KdSgcOfx"
      },
      "source": [
        "from xgboost import XGBClassifier\r\n",
        "model= XGBClassifier()"
      ],
      "execution_count": null,
      "outputs": []
    },
    {
      "cell_type": "code",
      "metadata": {
        "colab": {
          "base_uri": "https://localhost:8080/"
        },
        "id": "_9FcUP-JcbBB",
        "outputId": "6319c83b-69a5-449b-91a7-255a1e76df11"
      },
      "source": [
        "model.fit(x_train,y_train)"
      ],
      "execution_count": null,
      "outputs": [
        {
          "output_type": "execute_result",
          "data": {
            "text/plain": [
              "XGBClassifier(base_score=0.5, booster='gbtree', colsample_bylevel=1,\n",
              "              colsample_bynode=1, colsample_bytree=1, gamma=0,\n",
              "              learning_rate=0.1, max_delta_step=0, max_depth=3,\n",
              "              min_child_weight=1, missing=None, n_estimators=100, n_jobs=1,\n",
              "              nthread=None, objective='binary:logistic', random_state=0,\n",
              "              reg_alpha=0, reg_lambda=1, scale_pos_weight=1, seed=None,\n",
              "              silent=None, subsample=1, verbosity=1)"
            ]
          },
          "metadata": {
            "tags": []
          },
          "execution_count": 176
        }
      ]
    },
    {
      "cell_type": "code",
      "metadata": {
        "id": "CUuvWTKxcwKR"
      },
      "source": [
        "y_pred=model.predict(x_test)"
      ],
      "execution_count": null,
      "outputs": []
    },
    {
      "cell_type": "code",
      "metadata": {
        "colab": {
          "base_uri": "https://localhost:8080/"
        },
        "id": "RYFUkioLdLSE",
        "outputId": "c1e6585a-e937-4794-ad3c-0f9f6ca92aaa"
      },
      "source": [
        "from sklearn.metrics import classification_report\r\n",
        "print(classification_report(y_pred,y_test))"
      ],
      "execution_count": null,
      "outputs": [
        {
          "output_type": "stream",
          "text": [
            "              precision    recall  f1-score   support\n",
            "\n",
            "           0       0.00      0.00      0.00         4\n",
            "           1       1.00      0.75      0.86    312376\n",
            "\n",
            "    accuracy                           0.75    312380\n",
            "   macro avg       0.50      0.37      0.43    312380\n",
            "weighted avg       1.00      0.75      0.86    312380\n",
            "\n"
          ],
          "name": "stdout"
        }
      ]
    },
    {
      "cell_type": "code",
      "metadata": {
        "colab": {
          "base_uri": "https://localhost:8080/"
        },
        "id": "UIWxVh_ddvRP",
        "outputId": "a1d49f83-069e-4875-b14e-91605acca191"
      },
      "source": [
        "pd.Series(y_pred).value_counts()"
      ],
      "execution_count": null,
      "outputs": [
        {
          "output_type": "execute_result",
          "data": {
            "text/plain": [
              "1    312380\n",
              "dtype: int64"
            ]
          },
          "metadata": {
            "tags": []
          },
          "execution_count": 69
        }
      ]
    }
  ]
}